{
 "cells": [
  {
   "cell_type": "code",
   "execution_count": 1,
   "metadata": {},
   "outputs": [],
   "source": [
    "import torch\n",
    "import torch.nn as nn\n",
    "import torch.optim as optim\n",
    "from sklearn.model_selection import train_test_split\n",
    "import numpy as np\n",
    "import pandas as pd\n",
    "# Load the OTU table file\n",
    "otu_table = pd.read_csv('genus_rotated_f.csv', header=0, index_col=None)\n",
    "\n",
    "\n",
    "# 指定最小计数和流行度过滤参数\n",
    "min_count = 4\n",
    "prevalence_threshold = 0.20\n",
    "\n",
    "# 过滤掉在很少样本中计数很小的特征\n",
    "otu_table_filtered = otu_table.loc[:, (otu_table >= min_count).sum(axis=0) >= (prevalence_threshold * len(otu_table))]\n",
    "\n",
    "# 将过滤后的数据保存为新的CSV文件\n",
    "otu_table_filtered.to_csv('genus_rotated_f_filtered.csv', index=False)"
   ]
  }
 ],
 "metadata": {
  "colab": {
   "provenance": []
  },
  "gpuClass": "standard",
  "kernelspec": {
   "display_name": "Python 3",
   "language": "python",
   "name": "python3"
  },
  "language_info": {
   "codemirror_mode": {
    "name": "ipython",
    "version": 3
   },
   "file_extension": ".py",
   "mimetype": "text/x-python",
   "name": "python",
   "nbconvert_exporter": "python",
   "pygments_lexer": "ipython3",
   "version": "3.10.10"
  }
 },
 "nbformat": 4,
 "nbformat_minor": 1
}
